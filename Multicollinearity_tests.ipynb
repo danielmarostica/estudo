{
  "nbformat": 4,
  "nbformat_minor": 0,
  "metadata": {
    "colab": {
      "name": "Multicollinearity tests.ipynb",
      "provenance": []
    },
    "kernelspec": {
      "name": "python3",
      "display_name": "Python 3"
    },
    "language_info": {
      "name": "python"
    }
  },
  "cells": [
    {
      "cell_type": "markdown",
      "metadata": {
        "id": "SXl0aNKrnIZ7"
      },
      "source": [
        "# Multicollinearity detection\n",
        "\n",
        "### A dataset quality check step for Machine Learning training.\n",
        "\n",
        "We will be looking at:\n",
        "\n",
        "- Matrix Multiplication Determinant (should not be close to zero)\n",
        "- Variance Inflaction Factor (should be < 5)\n",
        "- Pearson's Correlation (ideally shouldn't be > 5)\n",
        "- Condition number $\\kappa$ (should be small)\n",
        "- Singular Values (should have low variance)"
      ]
    },
    {
      "cell_type": "markdown",
      "metadata": {
        "id": "_w_M3Cghon8L"
      },
      "source": [
        "## Preparation"
      ]
    },
    {
      "cell_type": "code",
      "metadata": {
        "id": "fOqcTBkVex47"
      },
      "source": [
        "import pandas as pd\n",
        "import seaborn as sns\n",
        "import numpy as np"
      ],
      "execution_count": 302,
      "outputs": []
    },
    {
      "cell_type": "markdown",
      "metadata": {
        "id": "6SVpWt-doOp5"
      },
      "source": [
        "### Example [dataset](https://www.kaggle.com/geoffnel/evs-one-electric-vehicle-dataset)"
      ]
    },
    {
      "cell_type": "code",
      "metadata": {
        "colab": {
          "base_uri": "https://localhost:8080/",
          "height": 419
        },
        "id": "3-ljCCD3fbwi",
        "outputId": "8af5fc42-0a3f-4f52-f1e2-df64c56a9265"
      },
      "source": [
        "df = pd.read_csv('ElectricCarData_Clean.csv')\n",
        "df"
      ],
      "execution_count": 303,
      "outputs": [
        {
          "output_type": "execute_result",
          "data": {
            "text/plain": [
              "           Brand                            Model  AccelSec  TopSpeed_KmH  \\\n",
              "0         Tesla     Model 3 Long Range Dual Motor       4.6           233   \n",
              "1    Volkswagen                         ID.3 Pure      10.0           160   \n",
              "2      Polestar                                 2       4.7           210   \n",
              "3           BMW                              iX3        6.8           180   \n",
              "4         Honda                                e        9.5           145   \n",
              "..           ...                              ...       ...           ...   \n",
              "98       Nissan                       Ariya 63kWh       7.5           160   \n",
              "99         Audi     e-tron S Sportback 55 quattro       4.5           210   \n",
              "100      Nissan               Ariya e-4ORCE 63kWh       5.9           200   \n",
              "101      Nissan   Ariya e-4ORCE 87kWh Performance       5.1           200   \n",
              "102       Byton                 M-Byte 95 kWh 2WD       7.5           190   \n",
              "\n",
              "     Range_Km  Efficiency_WhKm FastCharge_KmH RapidCharge PowerTrain  \\\n",
              "0         450              161            940         Yes        AWD   \n",
              "1         270              167            250         Yes        RWD   \n",
              "2         400              181            620         Yes        AWD   \n",
              "3         360              206            560         Yes        RWD   \n",
              "4         170              168            190         Yes        RWD   \n",
              "..        ...              ...            ...         ...        ...   \n",
              "98        330              191            440         Yes        FWD   \n",
              "99        335              258            540         Yes        AWD   \n",
              "100       325              194            440         Yes        AWD   \n",
              "101       375              232            450         Yes        AWD   \n",
              "102       400              238            480         Yes        AWD   \n",
              "\n",
              "       PlugType  BodyStyle Segment  Seats  PriceEuro  \n",
              "0    Type 2 CCS      Sedan       D      5      55480  \n",
              "1    Type 2 CCS  Hatchback       C      5      30000  \n",
              "2    Type 2 CCS   Liftback       D      5      56440  \n",
              "3    Type 2 CCS        SUV       D      5      68040  \n",
              "4    Type 2 CCS  Hatchback       B      4      32997  \n",
              "..          ...        ...     ...    ...        ...  \n",
              "98   Type 2 CCS  Hatchback       C      5      45000  \n",
              "99   Type 2 CCS        SUV       E      5      96050  \n",
              "100  Type 2 CCS  Hatchback       C      5      50000  \n",
              "101  Type 2 CCS  Hatchback       C      5      65000  \n",
              "102  Type 2 CCS        SUV       E      5      62000  \n",
              "\n",
              "[103 rows x 14 columns]"
            ],
            "text/html": [
              "<div>\n",
              "<style scoped>\n",
              "    .dataframe tbody tr th:only-of-type {\n",
              "        vertical-align: middle;\n",
              "    }\n",
              "\n",
              "    .dataframe tbody tr th {\n",
              "        vertical-align: top;\n",
              "    }\n",
              "\n",
              "    .dataframe thead th {\n",
              "        text-align: right;\n",
              "    }\n",
              "</style>\n",
              "<table border=\"1\" class=\"dataframe\">\n",
              "  <thead>\n",
              "    <tr style=\"text-align: right;\">\n",
              "      <th></th>\n",
              "      <th>Brand</th>\n",
              "      <th>Model</th>\n",
              "      <th>AccelSec</th>\n",
              "      <th>TopSpeed_KmH</th>\n",
              "      <th>Range_Km</th>\n",
              "      <th>Efficiency_WhKm</th>\n",
              "      <th>FastCharge_KmH</th>\n",
              "      <th>RapidCharge</th>\n",
              "      <th>PowerTrain</th>\n",
              "      <th>PlugType</th>\n",
              "      <th>BodyStyle</th>\n",
              "      <th>Segment</th>\n",
              "      <th>Seats</th>\n",
              "      <th>PriceEuro</th>\n",
              "    </tr>\n",
              "  </thead>\n",
              "  <tbody>\n",
              "    <tr>\n",
              "      <th>0</th>\n",
              "      <td>Tesla</td>\n",
              "      <td>Model 3 Long Range Dual Motor</td>\n",
              "      <td>4.6</td>\n",
              "      <td>233</td>\n",
              "      <td>450</td>\n",
              "      <td>161</td>\n",
              "      <td>940</td>\n",
              "      <td>Yes</td>\n",
              "      <td>AWD</td>\n",
              "      <td>Type 2 CCS</td>\n",
              "      <td>Sedan</td>\n",
              "      <td>D</td>\n",
              "      <td>5</td>\n",
              "      <td>55480</td>\n",
              "    </tr>\n",
              "    <tr>\n",
              "      <th>1</th>\n",
              "      <td>Volkswagen</td>\n",
              "      <td>ID.3 Pure</td>\n",
              "      <td>10.0</td>\n",
              "      <td>160</td>\n",
              "      <td>270</td>\n",
              "      <td>167</td>\n",
              "      <td>250</td>\n",
              "      <td>Yes</td>\n",
              "      <td>RWD</td>\n",
              "      <td>Type 2 CCS</td>\n",
              "      <td>Hatchback</td>\n",
              "      <td>C</td>\n",
              "      <td>5</td>\n",
              "      <td>30000</td>\n",
              "    </tr>\n",
              "    <tr>\n",
              "      <th>2</th>\n",
              "      <td>Polestar</td>\n",
              "      <td>2</td>\n",
              "      <td>4.7</td>\n",
              "      <td>210</td>\n",
              "      <td>400</td>\n",
              "      <td>181</td>\n",
              "      <td>620</td>\n",
              "      <td>Yes</td>\n",
              "      <td>AWD</td>\n",
              "      <td>Type 2 CCS</td>\n",
              "      <td>Liftback</td>\n",
              "      <td>D</td>\n",
              "      <td>5</td>\n",
              "      <td>56440</td>\n",
              "    </tr>\n",
              "    <tr>\n",
              "      <th>3</th>\n",
              "      <td>BMW</td>\n",
              "      <td>iX3</td>\n",
              "      <td>6.8</td>\n",
              "      <td>180</td>\n",
              "      <td>360</td>\n",
              "      <td>206</td>\n",
              "      <td>560</td>\n",
              "      <td>Yes</td>\n",
              "      <td>RWD</td>\n",
              "      <td>Type 2 CCS</td>\n",
              "      <td>SUV</td>\n",
              "      <td>D</td>\n",
              "      <td>5</td>\n",
              "      <td>68040</td>\n",
              "    </tr>\n",
              "    <tr>\n",
              "      <th>4</th>\n",
              "      <td>Honda</td>\n",
              "      <td>e</td>\n",
              "      <td>9.5</td>\n",
              "      <td>145</td>\n",
              "      <td>170</td>\n",
              "      <td>168</td>\n",
              "      <td>190</td>\n",
              "      <td>Yes</td>\n",
              "      <td>RWD</td>\n",
              "      <td>Type 2 CCS</td>\n",
              "      <td>Hatchback</td>\n",
              "      <td>B</td>\n",
              "      <td>4</td>\n",
              "      <td>32997</td>\n",
              "    </tr>\n",
              "    <tr>\n",
              "      <th>...</th>\n",
              "      <td>...</td>\n",
              "      <td>...</td>\n",
              "      <td>...</td>\n",
              "      <td>...</td>\n",
              "      <td>...</td>\n",
              "      <td>...</td>\n",
              "      <td>...</td>\n",
              "      <td>...</td>\n",
              "      <td>...</td>\n",
              "      <td>...</td>\n",
              "      <td>...</td>\n",
              "      <td>...</td>\n",
              "      <td>...</td>\n",
              "      <td>...</td>\n",
              "    </tr>\n",
              "    <tr>\n",
              "      <th>98</th>\n",
              "      <td>Nissan</td>\n",
              "      <td>Ariya 63kWh</td>\n",
              "      <td>7.5</td>\n",
              "      <td>160</td>\n",
              "      <td>330</td>\n",
              "      <td>191</td>\n",
              "      <td>440</td>\n",
              "      <td>Yes</td>\n",
              "      <td>FWD</td>\n",
              "      <td>Type 2 CCS</td>\n",
              "      <td>Hatchback</td>\n",
              "      <td>C</td>\n",
              "      <td>5</td>\n",
              "      <td>45000</td>\n",
              "    </tr>\n",
              "    <tr>\n",
              "      <th>99</th>\n",
              "      <td>Audi</td>\n",
              "      <td>e-tron S Sportback 55 quattro</td>\n",
              "      <td>4.5</td>\n",
              "      <td>210</td>\n",
              "      <td>335</td>\n",
              "      <td>258</td>\n",
              "      <td>540</td>\n",
              "      <td>Yes</td>\n",
              "      <td>AWD</td>\n",
              "      <td>Type 2 CCS</td>\n",
              "      <td>SUV</td>\n",
              "      <td>E</td>\n",
              "      <td>5</td>\n",
              "      <td>96050</td>\n",
              "    </tr>\n",
              "    <tr>\n",
              "      <th>100</th>\n",
              "      <td>Nissan</td>\n",
              "      <td>Ariya e-4ORCE 63kWh</td>\n",
              "      <td>5.9</td>\n",
              "      <td>200</td>\n",
              "      <td>325</td>\n",
              "      <td>194</td>\n",
              "      <td>440</td>\n",
              "      <td>Yes</td>\n",
              "      <td>AWD</td>\n",
              "      <td>Type 2 CCS</td>\n",
              "      <td>Hatchback</td>\n",
              "      <td>C</td>\n",
              "      <td>5</td>\n",
              "      <td>50000</td>\n",
              "    </tr>\n",
              "    <tr>\n",
              "      <th>101</th>\n",
              "      <td>Nissan</td>\n",
              "      <td>Ariya e-4ORCE 87kWh Performance</td>\n",
              "      <td>5.1</td>\n",
              "      <td>200</td>\n",
              "      <td>375</td>\n",
              "      <td>232</td>\n",
              "      <td>450</td>\n",
              "      <td>Yes</td>\n",
              "      <td>AWD</td>\n",
              "      <td>Type 2 CCS</td>\n",
              "      <td>Hatchback</td>\n",
              "      <td>C</td>\n",
              "      <td>5</td>\n",
              "      <td>65000</td>\n",
              "    </tr>\n",
              "    <tr>\n",
              "      <th>102</th>\n",
              "      <td>Byton</td>\n",
              "      <td>M-Byte 95 kWh 2WD</td>\n",
              "      <td>7.5</td>\n",
              "      <td>190</td>\n",
              "      <td>400</td>\n",
              "      <td>238</td>\n",
              "      <td>480</td>\n",
              "      <td>Yes</td>\n",
              "      <td>AWD</td>\n",
              "      <td>Type 2 CCS</td>\n",
              "      <td>SUV</td>\n",
              "      <td>E</td>\n",
              "      <td>5</td>\n",
              "      <td>62000</td>\n",
              "    </tr>\n",
              "  </tbody>\n",
              "</table>\n",
              "<p>103 rows × 14 columns</p>\n",
              "</div>"
            ]
          },
          "metadata": {
            "tags": []
          },
          "execution_count": 303
        }
      ]
    },
    {
      "cell_type": "markdown",
      "metadata": {
        "id": "Spj3HSJFp1p5"
      },
      "source": [
        "Small correction for missing values"
      ]
    },
    {
      "cell_type": "code",
      "metadata": {
        "id": "43O2FHjPoybB"
      },
      "source": [
        "df.FastCharge_KmH = df.FastCharge_KmH.replace('-', 0).astype(int)\n",
        "df.FastCharge_KmH = df.FastCharge_KmH.replace(0, df.FastCharge_KmH.mean())"
      ],
      "execution_count": 304,
      "outputs": []
    },
    {
      "cell_type": "markdown",
      "metadata": {
        "id": "Ov9uDd6-oaDZ"
      },
      "source": [
        "For simplification, limiting set to numeric variables"
      ]
    },
    {
      "cell_type": "code",
      "metadata": {
        "colab": {
          "base_uri": "https://localhost:8080/",
          "height": 419
        },
        "id": "ZyqXH0gbfljD",
        "outputId": "dc05d865-327f-40fb-cd0f-4e94b22768c6"
      },
      "source": [
        "data = df.loc[:, df.columns.isin(df.corr().columns)]\n",
        "data"
      ],
      "execution_count": 305,
      "outputs": [
        {
          "output_type": "execute_result",
          "data": {
            "text/plain": [
              "     AccelSec  TopSpeed_KmH  Range_Km  Efficiency_WhKm  FastCharge_KmH  Seats  \\\n",
              "0         4.6           233       450              161           940.0      5   \n",
              "1        10.0           160       270              167           250.0      5   \n",
              "2         4.7           210       400              181           620.0      5   \n",
              "3         6.8           180       360              206           560.0      5   \n",
              "4         9.5           145       170              168           190.0      4   \n",
              "..        ...           ...       ...              ...             ...    ...   \n",
              "98        7.5           160       330              191           440.0      5   \n",
              "99        4.5           210       335              258           540.0      5   \n",
              "100       5.9           200       325              194           440.0      5   \n",
              "101       5.1           200       375              232           450.0      5   \n",
              "102       7.5           190       400              238           480.0      5   \n",
              "\n",
              "     PriceEuro  \n",
              "0        55480  \n",
              "1        30000  \n",
              "2        56440  \n",
              "3        68040  \n",
              "4        32997  \n",
              "..         ...  \n",
              "98       45000  \n",
              "99       96050  \n",
              "100      50000  \n",
              "101      65000  \n",
              "102      62000  \n",
              "\n",
              "[103 rows x 7 columns]"
            ],
            "text/html": [
              "<div>\n",
              "<style scoped>\n",
              "    .dataframe tbody tr th:only-of-type {\n",
              "        vertical-align: middle;\n",
              "    }\n",
              "\n",
              "    .dataframe tbody tr th {\n",
              "        vertical-align: top;\n",
              "    }\n",
              "\n",
              "    .dataframe thead th {\n",
              "        text-align: right;\n",
              "    }\n",
              "</style>\n",
              "<table border=\"1\" class=\"dataframe\">\n",
              "  <thead>\n",
              "    <tr style=\"text-align: right;\">\n",
              "      <th></th>\n",
              "      <th>AccelSec</th>\n",
              "      <th>TopSpeed_KmH</th>\n",
              "      <th>Range_Km</th>\n",
              "      <th>Efficiency_WhKm</th>\n",
              "      <th>FastCharge_KmH</th>\n",
              "      <th>Seats</th>\n",
              "      <th>PriceEuro</th>\n",
              "    </tr>\n",
              "  </thead>\n",
              "  <tbody>\n",
              "    <tr>\n",
              "      <th>0</th>\n",
              "      <td>4.6</td>\n",
              "      <td>233</td>\n",
              "      <td>450</td>\n",
              "      <td>161</td>\n",
              "      <td>940.0</td>\n",
              "      <td>5</td>\n",
              "      <td>55480</td>\n",
              "    </tr>\n",
              "    <tr>\n",
              "      <th>1</th>\n",
              "      <td>10.0</td>\n",
              "      <td>160</td>\n",
              "      <td>270</td>\n",
              "      <td>167</td>\n",
              "      <td>250.0</td>\n",
              "      <td>5</td>\n",
              "      <td>30000</td>\n",
              "    </tr>\n",
              "    <tr>\n",
              "      <th>2</th>\n",
              "      <td>4.7</td>\n",
              "      <td>210</td>\n",
              "      <td>400</td>\n",
              "      <td>181</td>\n",
              "      <td>620.0</td>\n",
              "      <td>5</td>\n",
              "      <td>56440</td>\n",
              "    </tr>\n",
              "    <tr>\n",
              "      <th>3</th>\n",
              "      <td>6.8</td>\n",
              "      <td>180</td>\n",
              "      <td>360</td>\n",
              "      <td>206</td>\n",
              "      <td>560.0</td>\n",
              "      <td>5</td>\n",
              "      <td>68040</td>\n",
              "    </tr>\n",
              "    <tr>\n",
              "      <th>4</th>\n",
              "      <td>9.5</td>\n",
              "      <td>145</td>\n",
              "      <td>170</td>\n",
              "      <td>168</td>\n",
              "      <td>190.0</td>\n",
              "      <td>4</td>\n",
              "      <td>32997</td>\n",
              "    </tr>\n",
              "    <tr>\n",
              "      <th>...</th>\n",
              "      <td>...</td>\n",
              "      <td>...</td>\n",
              "      <td>...</td>\n",
              "      <td>...</td>\n",
              "      <td>...</td>\n",
              "      <td>...</td>\n",
              "      <td>...</td>\n",
              "    </tr>\n",
              "    <tr>\n",
              "      <th>98</th>\n",
              "      <td>7.5</td>\n",
              "      <td>160</td>\n",
              "      <td>330</td>\n",
              "      <td>191</td>\n",
              "      <td>440.0</td>\n",
              "      <td>5</td>\n",
              "      <td>45000</td>\n",
              "    </tr>\n",
              "    <tr>\n",
              "      <th>99</th>\n",
              "      <td>4.5</td>\n",
              "      <td>210</td>\n",
              "      <td>335</td>\n",
              "      <td>258</td>\n",
              "      <td>540.0</td>\n",
              "      <td>5</td>\n",
              "      <td>96050</td>\n",
              "    </tr>\n",
              "    <tr>\n",
              "      <th>100</th>\n",
              "      <td>5.9</td>\n",
              "      <td>200</td>\n",
              "      <td>325</td>\n",
              "      <td>194</td>\n",
              "      <td>440.0</td>\n",
              "      <td>5</td>\n",
              "      <td>50000</td>\n",
              "    </tr>\n",
              "    <tr>\n",
              "      <th>101</th>\n",
              "      <td>5.1</td>\n",
              "      <td>200</td>\n",
              "      <td>375</td>\n",
              "      <td>232</td>\n",
              "      <td>450.0</td>\n",
              "      <td>5</td>\n",
              "      <td>65000</td>\n",
              "    </tr>\n",
              "    <tr>\n",
              "      <th>102</th>\n",
              "      <td>7.5</td>\n",
              "      <td>190</td>\n",
              "      <td>400</td>\n",
              "      <td>238</td>\n",
              "      <td>480.0</td>\n",
              "      <td>5</td>\n",
              "      <td>62000</td>\n",
              "    </tr>\n",
              "  </tbody>\n",
              "</table>\n",
              "<p>103 rows × 7 columns</p>\n",
              "</div>"
            ]
          },
          "metadata": {
            "tags": []
          },
          "execution_count": 305
        }
      ]
    },
    {
      "cell_type": "markdown",
      "metadata": {
        "id": "0QGR-GxBuuN4"
      },
      "source": [
        "And normalize"
      ]
    },
    {
      "cell_type": "code",
      "metadata": {
        "id": "IsfgY4vjurBI"
      },
      "source": [
        "data = data.apply(lambda x: x/x.max())"
      ],
      "execution_count": 306,
      "outputs": []
    },
    {
      "cell_type": "markdown",
      "metadata": {
        "id": "a2iSndKsqEhB"
      },
      "source": [
        "## Correlation (Pearson's)\n",
        "\n",
        "Many of them are very high. Problem alert!"
      ]
    },
    {
      "cell_type": "code",
      "metadata": {
        "colab": {
          "base_uri": "https://localhost:8080/",
          "height": 362
        },
        "id": "uu3_a4WPj_jA",
        "outputId": "25caaf06-cb9f-4d7f-8a24-013ded9617ee"
      },
      "source": [
        "sns.heatmap(data.corr(), annot=True)"
      ],
      "execution_count": 307,
      "outputs": [
        {
          "output_type": "execute_result",
          "data": {
            "text/plain": [
              "<AxesSubplot:>"
            ]
          },
          "metadata": {
            "tags": []
          },
          "execution_count": 307
        },
        {
          "output_type": "display_data",
          "data": {
            "text/plain": [
              "<Figure size 432x288 with 2 Axes>"
            ],
            "image/png": "[encoded data removed]"
          },
          "metadata": {
            "tags": [],
            "needs_background": "light"
          }
        }
      ]
    },
    {
      "cell_type": "markdown",
      "metadata": {
        "id": "avaQkbDfk7gB"
      },
      "source": [
        "## Variance Inflation Factor\n",
        "\n",
        "Checking for multicollinearity. VIF > 5 is usually bad."
      ]
    },
    {
      "cell_type": "code",
      "metadata": {
        "colab": {
          "base_uri": "https://localhost:8080/",
          "height": 266
        },
        "id": "syqra1Vck9pe",
        "outputId": "bdbb6b8d-d48f-4d78-e913-29149dd24f73"
      },
      "source": [
        "from statsmodels.stats.outliers_influence import variance_inflation_factor\n",
        "  \n",
        "# VIF dataframe\n",
        "vif_data = pd.DataFrame()\n",
        "vif_data['Feature'] = data.columns\n",
        "  \n",
        "# calculating VIF for each feature\n",
        "vif_data[\"VIF\"] = [variance_inflation_factor(data.values, i)\n",
        "                          for i in range(len(data.columns))]\n",
        "vif_data"
      ],
      "execution_count": 308,
      "outputs": [
        {
          "output_type": "execute_result",
          "data": {
            "text/plain": [
              "           Feature        VIF\n",
              "0         AccelSec   8.238046\n",
              "1     TopSpeed_KmH  68.106085\n",
              "2         Range_Km  23.788942\n",
              "3  Efficiency_WhKm  46.226969\n",
              "4   FastCharge_KmH  15.561937\n",
              "5            Seats  48.265071\n",
              "6        PriceEuro  12.444911"
            ],
            "text/html": [
              "<div>\n",
              "<style scoped>\n",
              "    .dataframe tbody tr th:only-of-type {\n",
              "        vertical-align: middle;\n",
              "    }\n",
              "\n",
              "    .dataframe tbody tr th {\n",
              "        vertical-align: top;\n",
              "    }\n",
              "\n",
              "    .dataframe thead th {\n",
              "        text-align: right;\n",
              "    }\n",
              "</style>\n",
              "<table border=\"1\" class=\"dataframe\">\n",
              "  <thead>\n",
              "    <tr style=\"text-align: right;\">\n",
              "      <th></th>\n",
              "      <th>Feature</th>\n",
              "      <th>VIF</th>\n",
              "    </tr>\n",
              "  </thead>\n",
              "  <tbody>\n",
              "    <tr>\n",
              "      <th>0</th>\n",
              "      <td>AccelSec</td>\n",
              "      <td>8.238046</td>\n",
              "    </tr>\n",
              "    <tr>\n",
              "      <th>1</th>\n",
              "      <td>TopSpeed_KmH</td>\n",
              "      <td>68.106085</td>\n",
              "    </tr>\n",
              "    <tr>\n",
              "      <th>2</th>\n",
              "      <td>Range_Km</td>\n",
              "      <td>23.788942</td>\n",
              "    </tr>\n",
              "    <tr>\n",
              "      <th>3</th>\n",
              "      <td>Efficiency_WhKm</td>\n",
              "      <td>46.226969</td>\n",
              "    </tr>\n",
              "    <tr>\n",
              "      <th>4</th>\n",
              "      <td>FastCharge_KmH</td>\n",
              "      <td>15.561937</td>\n",
              "    </tr>\n",
              "    <tr>\n",
              "      <th>5</th>\n",
              "      <td>Seats</td>\n",
              "      <td>48.265071</td>\n",
              "    </tr>\n",
              "    <tr>\n",
              "      <th>6</th>\n",
              "      <td>PriceEuro</td>\n",
              "      <td>12.444911</td>\n",
              "    </tr>\n",
              "  </tbody>\n",
              "</table>\n",
              "</div>"
            ]
          },
          "metadata": {
            "tags": []
          },
          "execution_count": 308
        }
      ]
    },
    {
      "cell_type": "markdown",
      "metadata": {
        "id": "CKvjnvFyf-PB"
      },
      "source": [
        "## Linear Algebra\n",
        "\n",
        "The matrix $X^TX$, where $X$ is our dataset, tells us important things about our data."
      ]
    },
    {
      "cell_type": "code",
      "metadata": {
        "colab": {
          "base_uri": "https://localhost:8080/",
          "height": 283
        },
        "id": "i7WFfyDogi3M",
        "outputId": "4693e581-985e-470c-ffcc-c0a24332975f"
      },
      "source": [
        "data_mul = data.T @ data # X^TX\n",
        "print(data_mul.shape)\n",
        "data_mul"
      ],
      "execution_count": 309,
      "outputs": [
        {
          "output_type": "stream",
          "text": [
            "(7, 7)\n"
          ],
          "name": "stdout"
        },
        {
          "output_type": "execute_result",
          "data": {
            "text/plain": [
              "                  AccelSec  TopSpeed_KmH   Range_Km  Efficiency_WhKm  \\\n",
              "AccelSec         13.080078     13.715875  10.669551        22.995405   \n",
              "TopSpeed_KmH     13.715875     20.827156  16.774353        31.610453   \n",
              "Range_Km         10.669551     16.774353  14.285976        25.376289   \n",
              "Efficiency_WhKm  22.995405     31.610453  25.376289        50.649546   \n",
              "FastCharge_KmH   14.679944     23.521844  19.232394        35.304777   \n",
              "Seats            23.452168     31.561672  25.549337        50.169021   \n",
              "PriceEuro         7.460180     13.112763  10.758242        19.222606   \n",
              "\n",
              "                 FastCharge_KmH      Seats  PriceEuro  \n",
              "AccelSec              14.679944  23.452168   7.460180  \n",
              "TopSpeed_KmH          23.521844  31.561672  13.112763  \n",
              "Range_Km              19.232394  25.549337  10.758242  \n",
              "Efficiency_WhKm       35.304777  50.169021  19.222606  \n",
              "FastCharge_KmH        28.651908  35.054342  15.135409  \n",
              "Seats                 35.054342  51.448980  18.691815  \n",
              "PriceEuro             15.135409  18.691815   9.511860  "
            ],
            "text/html": [
              "<div>\n",
              "<style scoped>\n",
              "    .dataframe tbody tr th:only-of-type {\n",
              "        vertical-align: middle;\n",
              "    }\n",
              "\n",
              "    .dataframe tbody tr th {\n",
              "        vertical-align: top;\n",
              "    }\n",
              "\n",
              "    .dataframe thead th {\n",
              "        text-align: right;\n",
              "    }\n",
              "</style>\n",
              "<table border=\"1\" class=\"dataframe\">\n",
              "  <thead>\n",
              "    <tr style=\"text-align: right;\">\n",
              "      <th></th>\n",
              "      <th>AccelSec</th>\n",
              "      <th>TopSpeed_KmH</th>\n",
              "      <th>Range_Km</th>\n",
              "      <th>Efficiency_WhKm</th>\n",
              "      <th>FastCharge_KmH</th>\n",
              "      <th>Seats</th>\n",
              "      <th>PriceEuro</th>\n",
              "    </tr>\n",
              "  </thead>\n",
              "  <tbody>\n",
              "    <tr>\n",
              "      <th>AccelSec</th>\n",
              "      <td>13.080078</td>\n",
              "      <td>13.715875</td>\n",
              "      <td>10.669551</td>\n",
              "      <td>22.995405</td>\n",
              "      <td>14.679944</td>\n",
              "      <td>23.452168</td>\n",
              "      <td>7.460180</td>\n",
              "    </tr>\n",
              "    <tr>\n",
              "      <th>TopSpeed_KmH</th>\n",
              "      <td>13.715875</td>\n",
              "      <td>20.827156</td>\n",
              "      <td>16.774353</td>\n",
              "      <td>31.610453</td>\n",
              "      <td>23.521844</td>\n",
              "      <td>31.561672</td>\n",
              "      <td>13.112763</td>\n",
              "    </tr>\n",
              "    <tr>\n",
              "      <th>Range_Km</th>\n",
              "      <td>10.669551</td>\n",
              "      <td>16.774353</td>\n",
              "      <td>14.285976</td>\n",
              "      <td>25.376289</td>\n",
              "      <td>19.232394</td>\n",
              "      <td>25.549337</td>\n",
              "      <td>10.758242</td>\n",
              "    </tr>\n",
              "    <tr>\n",
              "      <th>Efficiency_WhKm</th>\n",
              "      <td>22.995405</td>\n",
              "      <td>31.610453</td>\n",
              "      <td>25.376289</td>\n",
              "      <td>50.649546</td>\n",
              "      <td>35.304777</td>\n",
              "      <td>50.169021</td>\n",
              "      <td>19.222606</td>\n",
              "    </tr>\n",
              "    <tr>\n",
              "      <th>FastCharge_KmH</th>\n",
              "      <td>14.679944</td>\n",
              "      <td>23.521844</td>\n",
              "      <td>19.232394</td>\n",
              "      <td>35.304777</td>\n",
              "      <td>28.651908</td>\n",
              "      <td>35.054342</td>\n",
              "      <td>15.135409</td>\n",
              "    </tr>\n",
              "    <tr>\n",
              "      <th>Seats</th>\n",
              "      <td>23.452168</td>\n",
              "      <td>31.561672</td>\n",
              "      <td>25.549337</td>\n",
              "      <td>50.169021</td>\n",
              "      <td>35.054342</td>\n",
              "      <td>51.448980</td>\n",
              "      <td>18.691815</td>\n",
              "    </tr>\n",
              "    <tr>\n",
              "      <th>PriceEuro</th>\n",
              "      <td>7.460180</td>\n",
              "      <td>13.112763</td>\n",
              "      <td>10.758242</td>\n",
              "      <td>19.222606</td>\n",
              "      <td>15.135409</td>\n",
              "      <td>18.691815</td>\n",
              "      <td>9.511860</td>\n",
              "    </tr>\n",
              "  </tbody>\n",
              "</table>\n",
              "</div>"
            ]
          },
          "metadata": {
            "tags": []
          },
          "execution_count": 309
        }
      ]
    },
    {
      "cell_type": "markdown",
      "metadata": {
        "id": "7IGqfdi9sJWY"
      },
      "source": [
        "### Singular Value Decomposition (SVD)"
      ]
    },
    {
      "cell_type": "markdown",
      "metadata": {
        "id": "ftiMqOFgtK25"
      },
      "source": [
        "Normalization (again) is required for the condition number"
      ]
    },
    {
      "cell_type": "code",
      "metadata": {
        "colab": {
          "base_uri": "https://localhost:8080/",
          "height": 266
        },
        "id": "XxpVCYM0s_K3",
        "outputId": "9c17e913-7d78-4526-ae6f-ba8797de8f72"
      },
      "source": [
        "data_mul = data_mul.apply(lambda x: x/x.max())\n",
        "data_mul"
      ],
      "execution_count": 310,
      "outputs": [
        {
          "output_type": "execute_result",
          "data": {
            "text/plain": [
              "                 AccelSec  TopSpeed_KmH  Range_Km  Efficiency_WhKm  \\\n",
              "AccelSec         0.557734      0.433903  0.417606         0.454010   \n",
              "TopSpeed_KmH     0.584845      0.658869  0.656547         0.624101   \n",
              "Range_Km         0.454949      0.530658  0.559153         0.501017   \n",
              "Efficiency_WhKm  0.980524      1.000000  0.993227         1.000000   \n",
              "FastCharge_KmH   0.625953      0.744116  0.752755         0.697040   \n",
              "Seats            1.000000      0.998457  1.000000         0.990513   \n",
              "PriceEuro        0.318102      0.414824  0.421077         0.379522   \n",
              "\n",
              "                 FastCharge_KmH     Seats  PriceEuro  \n",
              "AccelSec               0.415806  0.455833   0.388094  \n",
              "TopSpeed_KmH           0.666251  0.613456   0.682153  \n",
              "Range_Km               0.544753  0.496596   0.559666  \n",
              "Efficiency_WhKm        1.000000  0.975122   1.000000  \n",
              "FastCharge_KmH         0.811559  0.681342   0.787376  \n",
              "Seats                  0.992906  1.000000   0.972387  \n",
              "PriceEuro              0.428707  0.363308   0.494827  "
            ],
            "text/html": [
              "<div>\n",
              "<style scoped>\n",
              "    .dataframe tbody tr th:only-of-type {\n",
              "        vertical-align: middle;\n",
              "    }\n",
              "\n",
              "    .dataframe tbody tr th {\n",
              "        vertical-align: top;\n",
              "    }\n",
              "\n",
              "    .dataframe thead th {\n",
              "        text-align: right;\n",
              "    }\n",
              "</style>\n",
              "<table border=\"1\" class=\"dataframe\">\n",
              "  <thead>\n",
              "    <tr style=\"text-align: right;\">\n",
              "      <th></th>\n",
              "      <th>AccelSec</th>\n",
              "      <th>TopSpeed_KmH</th>\n",
              "      <th>Range_Km</th>\n",
              "      <th>Efficiency_WhKm</th>\n",
              "      <th>FastCharge_KmH</th>\n",
              "      <th>Seats</th>\n",
              "      <th>PriceEuro</th>\n",
              "    </tr>\n",
              "  </thead>\n",
              "  <tbody>\n",
              "    <tr>\n",
              "      <th>AccelSec</th>\n",
              "      <td>0.557734</td>\n",
              "      <td>0.433903</td>\n",
              "      <td>0.417606</td>\n",
              "      <td>0.454010</td>\n",
              "      <td>0.415806</td>\n",
              "      <td>0.455833</td>\n",
              "      <td>0.388094</td>\n",
              "    </tr>\n",
              "    <tr>\n",
              "      <th>TopSpeed_KmH</th>\n",
              "      <td>0.584845</td>\n",
              "      <td>0.658869</td>\n",
              "      <td>0.656547</td>\n",
              "      <td>0.624101</td>\n",
              "      <td>0.666251</td>\n",
              "      <td>0.613456</td>\n",
              "      <td>0.682153</td>\n",
              "    </tr>\n",
              "    <tr>\n",
              "      <th>Range_Km</th>\n",
              "      <td>0.454949</td>\n",
              "      <td>0.530658</td>\n",
              "      <td>0.559153</td>\n",
              "      <td>0.501017</td>\n",
              "      <td>0.544753</td>\n",
              "      <td>0.496596</td>\n",
              "      <td>0.559666</td>\n",
              "    </tr>\n",
              "    <tr>\n",
              "      <th>Efficiency_WhKm</th>\n",
              "      <td>0.980524</td>\n",
              "      <td>1.000000</td>\n",
              "      <td>0.993227</td>\n",
              "      <td>1.000000</td>\n",
              "      <td>1.000000</td>\n",
              "      <td>0.975122</td>\n",
              "      <td>1.000000</td>\n",
              "    </tr>\n",
              "    <tr>\n",
              "      <th>FastCharge_KmH</th>\n",
              "      <td>0.625953</td>\n",
              "      <td>0.744116</td>\n",
              "      <td>0.752755</td>\n",
              "      <td>0.697040</td>\n",
              "      <td>0.811559</td>\n",
              "      <td>0.681342</td>\n",
              "      <td>0.787376</td>\n",
              "    </tr>\n",
              "    <tr>\n",
              "      <th>Seats</th>\n",
              "      <td>1.000000</td>\n",
              "      <td>0.998457</td>\n",
              "      <td>1.000000</td>\n",
              "      <td>0.990513</td>\n",
              "      <td>0.992906</td>\n",
              "      <td>1.000000</td>\n",
              "      <td>0.972387</td>\n",
              "    </tr>\n",
              "    <tr>\n",
              "      <th>PriceEuro</th>\n",
              "      <td>0.318102</td>\n",
              "      <td>0.414824</td>\n",
              "      <td>0.421077</td>\n",
              "      <td>0.379522</td>\n",
              "      <td>0.428707</td>\n",
              "      <td>0.363308</td>\n",
              "      <td>0.494827</td>\n",
              "    </tr>\n",
              "  </tbody>\n",
              "</table>\n",
              "</div>"
            ]
          },
          "metadata": {
            "tags": []
          },
          "execution_count": 310
        }
      ]
    },
    {
      "cell_type": "code",
      "metadata": {
        "colab": {
          "base_uri": "https://localhost:8080/"
        },
        "id": "U-G3ktU3gBma",
        "outputId": "4bf5f59b-97d8-414a-f4ff-e444251e56de"
      },
      "source": [
        "u, s, vh = np.linalg.svd(data_mul)\n",
        "s # singular values array"
      ],
      "execution_count": 311,
      "outputs": [
        {
          "output_type": "execute_result",
          "data": {
            "text/plain": [
              "array([4.98408755, 0.24681638, 0.04677424, 0.04020814, 0.02257002,\n",
              "       0.01180084, 0.00800575])"
            ]
          },
          "metadata": {
            "tags": []
          },
          "execution_count": 311
        }
      ]
    },
    {
      "cell_type": "markdown",
      "metadata": {
        "id": "_5QRS9EQiYWJ"
      },
      "source": [
        "### Condition number\n",
        "\n",
        "$\\kappa(X^TX) = \\frac{\\sigma_{max}(X^TX)}{\\sigma_{min}(X^TX)}$\n",
        "\n",
        "$\\sigma(X^TX)$ is a singular value.\n",
        "\n",
        "Problematic if $\\kappa > 15$"
      ]
    },
    {
      "cell_type": "code",
      "metadata": {
        "colab": {
          "base_uri": "https://localhost:8080/"
        },
        "id": "3j2clUqmjmeK",
        "outputId": "3a40d8a8-c9e9-4557-e877-f3b427129813"
      },
      "source": [
        "s.max()/s.min() # awful"
      ],
      "execution_count": 312,
      "outputs": [
        {
          "output_type": "execute_result",
          "data": {
            "text/plain": [
              "622.5636286897889"
            ]
          },
          "metadata": {
            "tags": []
          },
          "execution_count": 312
        }
      ]
    },
    {
      "cell_type": "markdown",
      "metadata": {
        "id": "AjvKyJh4u3Uo"
      },
      "source": [
        "### Matrix Determinant"
      ]
    },
    {
      "cell_type": "code",
      "metadata": {
        "colab": {
          "base_uri": "https://localhost:8080/"
        },
        "id": "UO9kSlxQl0yZ",
        "outputId": "086dcdb8-32e7-4d21-8542-96e6170301b5"
      },
      "source": [
        "np.linalg.det(data_mul)"
      ],
      "execution_count": 313,
      "outputs": [
        {
          "output_type": "execute_result",
          "data": {
            "text/plain": [
              "4.933179763715331e-09"
            ]
          },
          "metadata": {
            "tags": []
          },
          "execution_count": 313
        }
      ]
    },
    {
      "cell_type": "markdown",
      "metadata": {
        "id": "tg6Uf1Ypu6M5"
      },
      "source": [
        "Is close to zero, which makes the matrix hard to invert"
      ]
    },
    {
      "cell_type": "markdown",
      "metadata": {
        "id": "x_iwyu0YmwJK"
      },
      "source": [
        "## Adding collinearity\n",
        "\n",
        "How worse does it get with perfect linear dependence?"
      ]
    },
    {
      "cell_type": "code",
      "metadata": {
        "colab": {
          "base_uri": "https://localhost:8080/",
          "height": 419
        },
        "id": "8SiNi2hNmxwq",
        "outputId": "218c9b6d-cdef-4c16-f545-2443680da5b2"
      },
      "source": [
        "data['PriceDollar'] = 1.2 * data.PriceEuro\n",
        "data = data.apply(lambda x: x/x.max())\n",
        "data"
      ],
      "execution_count": 314,
      "outputs": [
        {
          "output_type": "execute_result",
          "data": {
            "text/plain": [
              "     AccelSec  TopSpeed_KmH  Range_Km  Efficiency_WhKm  FastCharge_KmH  \\\n",
              "0    0.205357      0.568293  0.463918         0.589744        1.000000   \n",
              "1    0.446429      0.390244  0.278351         0.611722        0.265957   \n",
              "2    0.209821      0.512195  0.412371         0.663004        0.659574   \n",
              "3    0.303571      0.439024  0.371134         0.754579        0.595745   \n",
              "4    0.424107      0.353659  0.175258         0.615385        0.202128   \n",
              "..        ...           ...       ...              ...             ...   \n",
              "98   0.334821      0.390244  0.340206         0.699634        0.468085   \n",
              "99   0.200893      0.512195  0.345361         0.945055        0.574468   \n",
              "100  0.263393      0.487805  0.335052         0.710623        0.468085   \n",
              "101  0.227679      0.487805  0.386598         0.849817        0.478723   \n",
              "102  0.334821      0.463415  0.412371         0.871795        0.510638   \n",
              "\n",
              "        Seats  PriceEuro  PriceDollar  \n",
              "0    0.714286   0.258047     0.258047  \n",
              "1    0.714286   0.139535     0.139535  \n",
              "2    0.714286   0.262512     0.262512  \n",
              "3    0.714286   0.316465     0.316465  \n",
              "4    0.571429   0.153474     0.153474  \n",
              "..        ...        ...          ...  \n",
              "98   0.714286   0.209302     0.209302  \n",
              "99   0.714286   0.446744     0.446744  \n",
              "100  0.714286   0.232558     0.232558  \n",
              "101  0.714286   0.302326     0.302326  \n",
              "102  0.714286   0.288372     0.288372  \n",
              "\n",
              "[103 rows x 8 columns]"
            ],
            "text/html": [
              "<div>\n",
              "<style scoped>\n",
              "    .dataframe tbody tr th:only-of-type {\n",
              "        vertical-align: middle;\n",
              "    }\n",
              "\n",
              "    .dataframe tbody tr th {\n",
              "        vertical-align: top;\n",
              "    }\n",
              "\n",
              "    .dataframe thead th {\n",
              "        text-align: right;\n",
              "    }\n",
              "</style>\n",
              "<table border=\"1\" class=\"dataframe\">\n",
              "  <thead>\n",
              "    <tr style=\"text-align: right;\">\n",
              "      <th></th>\n",
              "      <th>AccelSec</th>\n",
              "      <th>TopSpeed_KmH</th>\n",
              "      <th>Range_Km</th>\n",
              "      <th>Efficiency_WhKm</th>\n",
              "      <th>FastCharge_KmH</th>\n",
              "      <th>Seats</th>\n",
              "      <th>PriceEuro</th>\n",
              "      <th>PriceDollar</th>\n",
              "    </tr>\n",
              "  </thead>\n",
              "  <tbody>\n",
              "    <tr>\n",
              "      <th>0</th>\n",
              "      <td>0.205357</td>\n",
              "      <td>0.568293</td>\n",
              "      <td>0.463918</td>\n",
              "      <td>0.589744</td>\n",
              "      <td>1.000000</td>\n",
              "      <td>0.714286</td>\n",
              "      <td>0.258047</td>\n",
              "      <td>0.258047</td>\n",
              "    </tr>\n",
              "    <tr>\n",
              "      <th>1</th>\n",
              "      <td>0.446429</td>\n",
              "      <td>0.390244</td>\n",
              "      <td>0.278351</td>\n",
              "      <td>0.611722</td>\n",
              "      <td>0.265957</td>\n",
              "      <td>0.714286</td>\n",
              "      <td>0.139535</td>\n",
              "      <td>0.139535</td>\n",
              "    </tr>\n",
              "    <tr>\n",
              "      <th>2</th>\n",
              "      <td>0.209821</td>\n",
              "      <td>0.512195</td>\n",
              "      <td>0.412371</td>\n",
              "      <td>0.663004</td>\n",
              "      <td>0.659574</td>\n",
              "      <td>0.714286</td>\n",
              "      <td>0.262512</td>\n",
              "      <td>0.262512</td>\n",
              "    </tr>\n",
              "    <tr>\n",
              "      <th>3</th>\n",
              "      <td>0.303571</td>\n",
              "      <td>0.439024</td>\n",
              "      <td>0.371134</td>\n",
              "      <td>0.754579</td>\n",
              "      <td>0.595745</td>\n",
              "      <td>0.714286</td>\n",
              "      <td>0.316465</td>\n",
              "      <td>0.316465</td>\n",
              "    </tr>\n",
              "    <tr>\n",
              "      <th>4</th>\n",
              "      <td>0.424107</td>\n",
              "      <td>0.353659</td>\n",
              "      <td>0.175258</td>\n",
              "      <td>0.615385</td>\n",
              "      <td>0.202128</td>\n",
              "      <td>0.571429</td>\n",
              "      <td>0.153474</td>\n",
              "      <td>0.153474</td>\n",
              "    </tr>\n",
              "    <tr>\n",
              "      <th>...</th>\n",
              "      <td>...</td>\n",
              "      <td>...</td>\n",
              "      <td>...</td>\n",
              "      <td>...</td>\n",
              "      <td>...</td>\n",
              "      <td>...</td>\n",
              "      <td>...</td>\n",
              "      <td>...</td>\n",
              "    </tr>\n",
              "    <tr>\n",
              "      <th>98</th>\n",
              "      <td>0.334821</td>\n",
              "      <td>0.390244</td>\n",
              "      <td>0.340206</td>\n",
              "      <td>0.699634</td>\n",
              "      <td>0.468085</td>\n",
              "      <td>0.714286</td>\n",
              "      <td>0.209302</td>\n",
              "      <td>0.209302</td>\n",
              "    </tr>\n",
              "    <tr>\n",
              "      <th>99</th>\n",
              "      <td>0.200893</td>\n",
              "      <td>0.512195</td>\n",
              "      <td>0.345361</td>\n",
              "      <td>0.945055</td>\n",
              "      <td>0.574468</td>\n",
              "      <td>0.714286</td>\n",
              "      <td>0.446744</td>\n",
              "      <td>0.446744</td>\n",
              "    </tr>\n",
              "    <tr>\n",
              "      <th>100</th>\n",
              "      <td>0.263393</td>\n",
              "      <td>0.487805</td>\n",
              "      <td>0.335052</td>\n",
              "      <td>0.710623</td>\n",
              "      <td>0.468085</td>\n",
              "      <td>0.714286</td>\n",
              "      <td>0.232558</td>\n",
              "      <td>0.232558</td>\n",
              "    </tr>\n",
              "    <tr>\n",
              "      <th>101</th>\n",
              "      <td>0.227679</td>\n",
              "      <td>0.487805</td>\n",
              "      <td>0.386598</td>\n",
              "      <td>0.849817</td>\n",
              "      <td>0.478723</td>\n",
              "      <td>0.714286</td>\n",
              "      <td>0.302326</td>\n",
              "      <td>0.302326</td>\n",
              "    </tr>\n",
              "    <tr>\n",
              "      <th>102</th>\n",
              "      <td>0.334821</td>\n",
              "      <td>0.463415</td>\n",
              "      <td>0.412371</td>\n",
              "      <td>0.871795</td>\n",
              "      <td>0.510638</td>\n",
              "      <td>0.714286</td>\n",
              "      <td>0.288372</td>\n",
              "      <td>0.288372</td>\n",
              "    </tr>\n",
              "  </tbody>\n",
              "</table>\n",
              "<p>103 rows × 8 columns</p>\n",
              "</div>"
            ]
          },
          "metadata": {
            "tags": []
          },
          "execution_count": 314
        }
      ]
    },
    {
      "cell_type": "markdown",
      "metadata": {
        "id": "w9p-ZTt2vplA"
      },
      "source": [
        "Euro and Dollar are now perfectly correlated (linearly dependent to each other)"
      ]
    },
    {
      "cell_type": "code",
      "metadata": {
        "colab": {
          "base_uri": "https://localhost:8080/",
          "height": 362
        },
        "id": "DWKDnJDFvnE0",
        "outputId": "5ae27c90-8de6-489b-fdbb-300d783c43de"
      },
      "source": [
        "sns.heatmap(data.corr(), annot=True)"
      ],
      "execution_count": 315,
      "outputs": [
        {
          "output_type": "execute_result",
          "data": {
            "text/plain": [
              "<AxesSubplot:>"
            ]
          },
          "metadata": {
            "tags": []
          },
          "execution_count": 315
        },
        {
          "output_type": "display_data",
          "data": {
            "text/plain": [
              "<Figure size 432x288 with 2 Axes>"
            ],
            "image/png": "[encoded data removed]"
          },
          "metadata": {
            "tags": [],
            "needs_background": "light"
          }
        }
      ]
    },
    {
      "cell_type": "code",
      "metadata": {
        "id": "WU2tWrCkm_W5"
      },
      "source": [
        "data_mul = data.T @ data"
      ],
      "execution_count": 316,
      "outputs": []
    },
    {
      "cell_type": "code",
      "metadata": {
        "colab": {
          "base_uri": "https://localhost:8080/",
          "height": 297
        },
        "id": "F2j1DLLsuKoh",
        "outputId": "e1c69b25-2640-41eb-c567-b15f42cb9b11"
      },
      "source": [
        "data_mul = data_mul.apply(lambda x: x/x.max())\n",
        "data_mul"
      ],
      "execution_count": 317,
      "outputs": [
        {
          "output_type": "execute_result",
          "data": {
            "text/plain": [
              "                 AccelSec  TopSpeed_KmH  Range_Km  Efficiency_WhKm  \\\n",
              "AccelSec         0.557734      0.433903  0.417606         0.454010   \n",
              "TopSpeed_KmH     0.584845      0.658869  0.656547         0.624101   \n",
              "Range_Km         0.454949      0.530658  0.559153         0.501017   \n",
              "Efficiency_WhKm  0.980524      1.000000  0.993227         1.000000   \n",
              "FastCharge_KmH   0.625953      0.744116  0.752755         0.697040   \n",
              "Seats            1.000000      0.998457  1.000000         0.990513   \n",
              "PriceEuro        0.318102      0.414824  0.421077         0.379522   \n",
              "PriceDollar      0.318102      0.414824  0.421077         0.379522   \n",
              "\n",
              "                 FastCharge_KmH     Seats  PriceEuro  PriceDollar  \n",
              "AccelSec               0.415806  0.455833   0.388094     0.388094  \n",
              "TopSpeed_KmH           0.666251  0.613456   0.682153     0.682153  \n",
              "Range_Km               0.544753  0.496596   0.559666     0.559666  \n",
              "Efficiency_WhKm        1.000000  0.975122   1.000000     1.000000  \n",
              "FastCharge_KmH         0.811559  0.681342   0.787376     0.787376  \n",
              "Seats                  0.992906  1.000000   0.972387     0.972387  \n",
              "PriceEuro              0.428707  0.363308   0.494827     0.494827  \n",
              "PriceDollar            0.428707  0.363308   0.494827     0.494827  "
            ],
            "text/html": [
              "<div>\n",
              "<style scoped>\n",
              "    .dataframe tbody tr th:only-of-type {\n",
              "        vertical-align: middle;\n",
              "    }\n",
              "\n",
              "    .dataframe tbody tr th {\n",
              "        vertical-align: top;\n",
              "    }\n",
              "\n",
              "    .dataframe thead th {\n",
              "        text-align: right;\n",
              "    }\n",
              "</style>\n",
              "<table border=\"1\" class=\"dataframe\">\n",
              "  <thead>\n",
              "    <tr style=\"text-align: right;\">\n",
              "      <th></th>\n",
              "      <th>AccelSec</th>\n",
              "      <th>TopSpeed_KmH</th>\n",
              "      <th>Range_Km</th>\n",
              "      <th>Efficiency_WhKm</th>\n",
              "      <th>FastCharge_KmH</th>\n",
              "      <th>Seats</th>\n",
              "      <th>PriceEuro</th>\n",
              "      <th>PriceDollar</th>\n",
              "    </tr>\n",
              "  </thead>\n",
              "  <tbody>\n",
              "    <tr>\n",
              "      <th>AccelSec</th>\n",
              "      <td>0.557734</td>\n",
              "      <td>0.433903</td>\n",
              "      <td>0.417606</td>\n",
              "      <td>0.454010</td>\n",
              "      <td>0.415806</td>\n",
              "      <td>0.455833</td>\n",
              "      <td>0.388094</td>\n",
              "      <td>0.388094</td>\n",
              "    </tr>\n",
              "    <tr>\n",
              "      <th>TopSpeed_KmH</th>\n",
              "      <td>0.584845</td>\n",
              "      <td>0.658869</td>\n",
              "      <td>0.656547</td>\n",
              "      <td>0.624101</td>\n",
              "      <td>0.666251</td>\n",
              "      <td>0.613456</td>\n",
              "      <td>0.682153</td>\n",
              "      <td>0.682153</td>\n",
              "    </tr>\n",
              "    <tr>\n",
              "      <th>Range_Km</th>\n",
              "      <td>0.454949</td>\n",
              "      <td>0.530658</td>\n",
              "      <td>0.559153</td>\n",
              "      <td>0.501017</td>\n",
              "      <td>0.544753</td>\n",
              "      <td>0.496596</td>\n",
              "      <td>0.559666</td>\n",
              "      <td>0.559666</td>\n",
              "    </tr>\n",
              "    <tr>\n",
              "      <th>Efficiency_WhKm</th>\n",
              "      <td>0.980524</td>\n",
              "      <td>1.000000</td>\n",
              "      <td>0.993227</td>\n",
              "      <td>1.000000</td>\n",
              "      <td>1.000000</td>\n",
              "      <td>0.975122</td>\n",
              "      <td>1.000000</td>\n",
              "      <td>1.000000</td>\n",
              "    </tr>\n",
              "    <tr>\n",
              "      <th>FastCharge_KmH</th>\n",
              "      <td>0.625953</td>\n",
              "      <td>0.744116</td>\n",
              "      <td>0.752755</td>\n",
              "      <td>0.697040</td>\n",
              "      <td>0.811559</td>\n",
              "      <td>0.681342</td>\n",
              "      <td>0.787376</td>\n",
              "      <td>0.787376</td>\n",
              "    </tr>\n",
              "    <tr>\n",
              "      <th>Seats</th>\n",
              "      <td>1.000000</td>\n",
              "      <td>0.998457</td>\n",
              "      <td>1.000000</td>\n",
              "      <td>0.990513</td>\n",
              "      <td>0.992906</td>\n",
              "      <td>1.000000</td>\n",
              "      <td>0.972387</td>\n",
              "      <td>0.972387</td>\n",
              "    </tr>\n",
              "    <tr>\n",
              "      <th>PriceEuro</th>\n",
              "      <td>0.318102</td>\n",
              "      <td>0.414824</td>\n",
              "      <td>0.421077</td>\n",
              "      <td>0.379522</td>\n",
              "      <td>0.428707</td>\n",
              "      <td>0.363308</td>\n",
              "      <td>0.494827</td>\n",
              "      <td>0.494827</td>\n",
              "    </tr>\n",
              "    <tr>\n",
              "      <th>PriceDollar</th>\n",
              "      <td>0.318102</td>\n",
              "      <td>0.414824</td>\n",
              "      <td>0.421077</td>\n",
              "      <td>0.379522</td>\n",
              "      <td>0.428707</td>\n",
              "      <td>0.363308</td>\n",
              "      <td>0.494827</td>\n",
              "      <td>0.494827</td>\n",
              "    </tr>\n",
              "  </tbody>\n",
              "</table>\n",
              "</div>"
            ]
          },
          "metadata": {
            "tags": []
          },
          "execution_count": 317
        }
      ]
    },
    {
      "cell_type": "markdown",
      "metadata": {
        "id": "1bKg-mtDvgCJ"
      },
      "source": [
        "### Singular Value Decomposition"
      ]
    },
    {
      "cell_type": "code",
      "metadata": {
        "colab": {
          "base_uri": "https://localhost:8080/"
        },
        "id": "24GoiJxkm_W5",
        "outputId": "40a6eda6-657e-43ce-9b65-2a5c2984e929"
      },
      "source": [
        "u, s, vh = np.linalg.svd(data_mul)\n",
        "s"
      ],
      "execution_count": 318,
      "outputs": [
        {
          "output_type": "execute_result",
          "data": {
            "text/plain": [
              "array([5.47253699e+00, 3.01564414e-01, 6.48384084e-02, 4.07361253e-02,\n",
              "       2.25812729e-02, 1.21204276e-02, 8.27008007e-03, 1.30572136e-34])"
            ]
          },
          "metadata": {
            "tags": []
          },
          "execution_count": 318
        }
      ]
    },
    {
      "cell_type": "markdown",
      "metadata": {
        "id": "rwXcAqfCm_W5"
      },
      "source": [
        "### Condition number"
      ]
    },
    {
      "cell_type": "code",
      "metadata": {
        "colab": {
          "base_uri": "https://localhost:8080/"
        },
        "id": "dU7Zt6azm_W6",
        "outputId": "bd4a2869-8eff-4b49-b457-188eeea97469"
      },
      "source": [
        "s.max()/s.min()"
      ],
      "execution_count": 319,
      "outputs": [
        {
          "output_type": "execute_result",
          "data": {
            "text/plain": [
              "4.19119819471754e+34"
            ]
          },
          "metadata": {
            "tags": []
          },
          "execution_count": 319
        }
      ]
    },
    {
      "cell_type": "code",
      "metadata": {
        "colab": {
          "base_uri": "https://localhost:8080/"
        },
        "id": "90gAXVAhm_W6",
        "outputId": "a7c1443c-3355-42cb-e429-36e1b6ce65d1"
      },
      "source": [
        "np.linalg.det(data_mul)"
      ],
      "execution_count": 320,
      "outputs": [
        {
          "output_type": "execute_result",
          "data": {
            "text/plain": [
              "0.0"
            ]
          },
          "metadata": {
            "tags": []
          },
          "execution_count": 320
        }
      ]
    },
    {
      "cell_type": "markdown",
      "metadata": {
        "id": "bCXo8Kckv1vb"
      },
      "source": [
        "**Condition number is unnaceptable and matrix is not invertible.** Two things we do not want."
      ]
    }
  ]
}