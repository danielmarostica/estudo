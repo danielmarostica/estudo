{
  "nbformat": 4,
  "nbformat_minor": 0,
  "metadata": {
    "colab": {
      "name": "Linear Algebra.ipynb",
      "provenance": []
    },
    "kernelspec": {
      "name": "python3",
      "display_name": "Python 3"
    },
    "language_info": {
      "name": "python"
    }
  },
  "cells": [
    {
      "cell_type": "markdown",
      "metadata": {
        "id": "ZcwKvmPHNoH8"
      },
      "source": [
        "# Linear Regression with Gradient Descent using PyTorch\n",
        "\n",
        "by Daniel Marostica"
      ]
    },
    {
      "cell_type": "code",
      "metadata": {
        "id": "ThzKMxNxNnst"
      },
      "source": [
        "import numpy as np\n",
        "import torch\n",
        "import matplotlib.pyplot as plt"
      ],
      "execution_count": 404,
      "outputs": []
    },
    {
      "cell_type": "markdown",
      "metadata": {
        "id": "W4kLY39EzcAo"
      },
      "source": [
        "Creating Dataset"
      ]
    },
    {
      "cell_type": "code",
      "metadata": {
        "colab": {
          "base_uri": "https://localhost:8080/"
        },
        "id": "U1Fh-BNbyerN",
        "outputId": "7d2a65b2-68de-4848-ee2d-3d088288abc6"
      },
      "source": [
        "x = torch.tensor([0, 1, 2, 3, 4, 5, 6, 7, 8, 9.])\n",
        "x"
      ],
      "execution_count": 405,
      "outputs": [
        {
          "output_type": "execute_result",
          "data": {
            "text/plain": [
              "tensor([0., 1., 2., 3., 4., 5., 6., 7., 8., 9.])"
            ]
          },
          "metadata": {
            "tags": []
          },
          "execution_count": 405
        }
      ]
    },
    {
      "cell_type": "markdown",
      "metadata": {
        "id": "TA2q2qBRANDa"
      },
      "source": [
        "Adding noise to linear function"
      ]
    },
    {
      "cell_type": "code",
      "metadata": {
        "colab": {
          "base_uri": "https://localhost:8080/"
        },
        "id": "bjQV7mqfyshC",
        "outputId": "68d13f9c-96d5-4cf1-e512-a021e1af4087"
      },
      "source": [
        "y = 5 - 10 * x + torch.normal(mean=torch.zeros(len(x)), std=2)\n",
        "y"
      ],
      "execution_count": 406,
      "outputs": [
        {
          "output_type": "execute_result",
          "data": {
            "text/plain": [
              "tensor([  0.8979,  -5.6293, -18.6121, -27.1287, -34.5780, -46.7576, -55.4267,\n",
              "        -65.6339, -75.3524, -87.5874])"
            ]
          },
          "metadata": {
            "tags": []
          },
          "execution_count": 406
        }
      ]
    },
    {
      "cell_type": "code",
      "metadata": {
        "colab": {
          "base_uri": "https://localhost:8080/",
          "height": 282
        },
        "id": "HBRFar-xzMP8",
        "outputId": "d0429b67-64f9-4c34-c6b3-d53d7d7b1452"
      },
      "source": [
        "plt.plot(x, y, 'o')"
      ],
      "execution_count": 407,
      "outputs": [
        {
          "output_type": "execute_result",
          "data": {
            "text/plain": [
              "[<matplotlib.lines.Line2D at 0x7f9b44d5d710>]"
            ]
          },
          "metadata": {
            "tags": []
          },
          "execution_count": 407
        },
        {
          "output_type": "display_data",
          "data": {
            "image/png": "[encoded data removed]",
            "text/plain": [
              "<Figure size 432x288 with 1 Axes>"
            ]
          },
          "metadata": {
            "tags": [],
            "needs_background": "light"
          }
        }
      ]
    },
    {
      "cell_type": "markdown",
      "metadata": {
        "id": "c5O1xtCd0Ogy"
      },
      "source": [
        "## Linear Regression"
      ]
    },
    {
      "cell_type": "markdown",
      "metadata": {
        "id": "ImZOK7AqAXth"
      },
      "source": [
        "## Random slope and intercept"
      ]
    },
    {
      "cell_type": "code",
      "metadata": {
        "colab": {
          "base_uri": "https://localhost:8080/"
        },
        "id": "sXwish1T1Ai7",
        "outputId": "aa727fa7-8aa3-44b6-fee0-f23a930d62c3"
      },
      "source": [
        "m = torch.tensor(3.).requires_grad_() # torch requires floating input\n",
        "m"
      ],
      "execution_count": 408,
      "outputs": [
        {
          "output_type": "execute_result",
          "data": {
            "text/plain": [
              "tensor(3., requires_grad=True)"
            ]
          },
          "metadata": {
            "tags": []
          },
          "execution_count": 408
        }
      ]
    },
    {
      "cell_type": "code",
      "metadata": {
        "colab": {
          "base_uri": "https://localhost:8080/"
        },
        "id": "msG0bRDR1FM7",
        "outputId": "ffba51fc-b5ff-4ce4-8dc4-2176b1a0237c"
      },
      "source": [
        "b = torch.tensor(5.).requires_grad_()\n",
        "b"
      ],
      "execution_count": 409,
      "outputs": [
        {
          "output_type": "execute_result",
          "data": {
            "text/plain": [
              "tensor(5., requires_grad=True)"
            ]
          },
          "metadata": {
            "tags": []
          },
          "execution_count": 409
        }
      ]
    },
    {
      "cell_type": "markdown",
      "metadata": {
        "id": "M5_1gZXD1Ski"
      },
      "source": [
        "Regression method"
      ]
    },
    {
      "cell_type": "code",
      "metadata": {
        "id": "6G8njdolzuJB"
      },
      "source": [
        "def regression(x, m, b):\n",
        "    return x * m + b"
      ],
      "execution_count": 410,
      "outputs": []
    },
    {
      "cell_type": "code",
      "metadata": {
        "colab": {
          "base_uri": "https://localhost:8080/"
        },
        "id": "TAt6MKjxzXD7",
        "outputId": "6eb16b73-81e3-453d-8b6f-707d22c8ec6e"
      },
      "source": [
        "regression(x, m, b) # test"
      ],
      "execution_count": 411,
      "outputs": [
        {
          "output_type": "execute_result",
          "data": {
            "text/plain": [
              "tensor([ 5.,  8., 11., 14., 17., 20., 23., 26., 29., 32.],\n",
              "       grad_fn=<AddBackward0>)"
            ]
          },
          "metadata": {
            "tags": []
          },
          "execution_count": 411
        }
      ]
    },
    {
      "cell_type": "markdown",
      "metadata": {
        "id": "hBcBNL1J1UaT"
      },
      "source": [
        "Cost function: mean squared error"
      ]
    },
    {
      "cell_type": "code",
      "metadata": {
        "id": "bo12-86C1U0u"
      },
      "source": [
        "def mse(y, yhat):\n",
        "    se = torch.sum((yhat - y)**2)\n",
        "    return se/len(yhat)"
      ],
      "execution_count": 412,
      "outputs": []
    },
    {
      "cell_type": "markdown",
      "metadata": {
        "id": "8vJL2HIc9pKC"
      },
      "source": [
        "Testing MSE as a function of $m$"
      ]
    },
    {
      "cell_type": "code",
      "metadata": {
        "id": "QE4UGdaV8W9a"
      },
      "source": [
        "mse_test = []\n",
        "for i in range(-30, 30):\n",
        "    test = mse(y, regression(x, i, b)).detach().numpy()\n",
        "    mse_test.append(test)"
      ],
      "execution_count": 413,
      "outputs": []
    },
    {
      "cell_type": "code",
      "metadata": {
        "colab": {
          "base_uri": "https://localhost:8080/",
          "height": 282
        },
        "id": "xFgrCTJH7qTS",
        "outputId": "0ae1e5da-3757-4883-d22c-54645e7b91d7"
      },
      "source": [
        "plt.plot(range(-30, 30), mse_test)"
      ],
      "execution_count": 414,
      "outputs": [
        {
          "output_type": "execute_result",
          "data": {
            "text/plain": [
              "[<matplotlib.lines.Line2D at 0x7f9b44611910>]"
            ]
          },
          "metadata": {
            "tags": []
          },
          "execution_count": 414
        },
        {
          "output_type": "display_data",
          "data": {
            "image/png": "[encoded data removed]",
            "text/plain": [
              "<Figure size 432x288 with 1 Axes>"
            ]
          },
          "metadata": {
            "tags": [],
            "needs_background": "light"
          }
        }
      ]
    },
    {
      "cell_type": "markdown",
      "metadata": {
        "id": "5uO_w9kLA4P5"
      },
      "source": [
        "Good, gradient descent must find this minimum, where $x = 10$."
      ]
    },
    {
      "cell_type": "markdown",
      "metadata": {
        "id": "t0-esQ7P3d1z"
      },
      "source": [
        "## Gradient Descent"
      ]
    },
    {
      "cell_type": "code",
      "metadata": {
        "colab": {
          "base_uri": "https://localhost:8080/"
        },
        "id": "ctCPfpw63e3D",
        "outputId": "5741c769-17ad-4c70-8fd3-8ccf7b818eca"
      },
      "source": [
        "optimizer = torch.optim.SGD([m, b], lr=0.01)\n",
        "optimizer"
      ],
      "execution_count": 415,
      "outputs": [
        {
          "output_type": "execute_result",
          "data": {
            "text/plain": [
              "SGD (\n",
              "Parameter Group 0\n",
              "    dampening: 0\n",
              "    lr: 0.01\n",
              "    momentum: 0\n",
              "    nesterov: False\n",
              "    weight_decay: 0\n",
              ")"
            ]
          },
          "metadata": {
            "tags": []
          },
          "execution_count": 415
        }
      ]
    },
    {
      "cell_type": "markdown",
      "metadata": {
        "id": "j0O9Px7I4O5L"
      },
      "source": [
        "## Training"
      ]
    },
    {
      "cell_type": "code",
      "metadata": {
        "colab": {
          "base_uri": "https://localhost:8080/",
          "height": 1000
        },
        "id": "UWOaqN3g4Pbm",
        "outputId": "8ac40a1f-d86e-4d5d-9b62-ce22c791e435"
      },
      "source": [
        "for epoch in range(6):\n",
        "\n",
        "    plt.figure(figsize=(10,5))\n",
        "    plt.plot(x, y, 'o')\n",
        "    plt.plot(x.detach().numpy(), m.detach().numpy() * x.detach().numpy() + b.detach().numpy()) # detaching is required\n",
        "\n",
        "    optimizer.zero_grad() # so as not to accumulate from previous epochs\n",
        "    C = mse(y, regression(x, m, b)) # cost\n",
        "    C.backward() # cost gradient\n",
        "    optimizer.step() # optimize"
      ],
      "execution_count": 416,
      "outputs": [
        {
          "output_type": "display_data",
          "data": {
            "image/png": "[encoded data removed]",
            "text/plain": [
              "<Figure size 720x360 with 1 Axes>"
            ]
          },
          "metadata": {
            "tags": [],
            "needs_background": "light"
          }
        },
        {
          "output_type": "display_data",
          "data": {
            "image/png": "[encoded data removed]",
            "text/plain": [
              "<Figure size 720x360 with 1 Axes>"
            ]
          },
          "metadata": {
            "tags": [],
            "needs_background": "light"
          }
        },
        {
          "output_type": "display_data",
          "data": {
            "image/png": "[encoded data removed]",
            "text/plain": [
              "<Figure size 720x360 with 1 Axes>"
            ]
          },
          "metadata": {
            "tags": [],
            "needs_background": "light"
          }
        },
        {
          "output_type": "display_data",
          "data": {
            "image/png": "[encoded data removed]",
            "text/plain": [
              "<Figure size 720x360 with 1 Axes>"
            ]
          },
          "metadata": {
            "tags": [],
            "needs_background": "light"
          }
        },
        {
          "output_type": "display_data",
          "data": {
            "image/png": "[encoded data removed]",
            "text/plain": [
              "<Figure size 720x360 with 1 Axes>"
            ]
          },
          "metadata": {
            "tags": [],
            "needs_background": "light"
          }
        },
        {
          "output_type": "display_data",
          "data": {
            "image/png": "[encoded data removed]",
            "text/plain": [
              "<Figure size 720x360 with 1 Axes>"
            ]
          },
          "metadata": {
            "tags": [],
            "needs_background": "light"
          }
        }
      ]
    },
    {
      "cell_type": "markdown",
      "metadata": {
        "id": "yJXLIWgiBu1A"
      },
      "source": [
        "## Results\n",
        "\n",
        "Slope and intercept"
      ]
    },
    {
      "cell_type": "code",
      "metadata": {
        "colab": {
          "base_uri": "https://localhost:8080/"
        },
        "id": "t_1oIZi94kRC",
        "outputId": "d33158ed-aabc-4763-dc5c-99b199d430f9"
      },
      "source": [
        "m"
      ],
      "execution_count": 417,
      "outputs": [
        {
          "output_type": "execute_result",
          "data": {
            "text/plain": [
              "tensor(-9.7990, requires_grad=True)"
            ]
          },
          "metadata": {
            "tags": []
          },
          "execution_count": 417
        }
      ]
    },
    {
      "cell_type": "code",
      "metadata": {
        "colab": {
          "base_uri": "https://localhost:8080/"
        },
        "id": "cBLacL7JBt06",
        "outputId": "bc33710e-8500-4c99-a148-4510088d6fe5"
      },
      "source": [
        "b"
      ],
      "execution_count": 418,
      "outputs": [
        {
          "output_type": "execute_result",
          "data": {
            "text/plain": [
              "tensor(2.9438, requires_grad=True)"
            ]
          },
          "metadata": {
            "tags": []
          },
          "execution_count": 418
        }
      ]
    }
  ]
}