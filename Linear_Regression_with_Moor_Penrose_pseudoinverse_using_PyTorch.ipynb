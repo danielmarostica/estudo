{
  "nbformat": 4,
  "nbformat_minor": 0,
  "metadata": {
    "colab": {
      "name": "Linear Regression with Moor-Penrose pseudoinverse  using PyTorch.ipynb",
      "provenance": []
    },
    "kernelspec": {
      "name": "python3",
      "display_name": "Python 3"
    },
    "language_info": {
      "name": "python"
    }
  },
  "cells": [
    {
      "cell_type": "markdown",
      "metadata": {
        "id": "ZcwKvmPHNoH8"
      },
      "source": [
        "# Linear Regression with Moor-Penrose pseudoinverse \n",
        "\n",
        "> by Daniel Marostica\n",
        "\n",
        "From Singular Value Decomposition\n",
        "\n",
        "$X = UDV^T$\n",
        "\n",
        "where \n",
        "- $U$: left-singular vectors matrix of $X$;\n",
        "- $V$: right-singular vectors matrix of $X$;\n",
        "- $D$: singular values of $X$.\n",
        "\n",
        "Taking $y = wX$, if we want to find the weights vector $w$, we can use the Moor-Penrose pseudoinverse matrix\n",
        "\n",
        "$X^+ = VD^+U^T$\n",
        "\n",
        "to derive $w = X^+y$."
      ]
    },
    {
      "cell_type": "code",
      "metadata": {
        "id": "ThzKMxNxNnst"
      },
      "source": [
        "import numpy as np\n",
        "import torch\n",
        "import matplotlib.pyplot as plt"
      ],
      "execution_count": 42,
      "outputs": []
    },
    {
      "cell_type": "markdown",
      "metadata": {
        "id": "W4kLY39EzcAo"
      },
      "source": [
        "Creating Dataset"
      ]
    },
    {
      "cell_type": "code",
      "metadata": {
        "colab": {
          "base_uri": "https://localhost:8080/"
        },
        "id": "U1Fh-BNbyerN",
        "outputId": "02344911-ea2d-4329-fa4c-d4d96ff64d6e"
      },
      "source": [
        "X = torch.tensor([[1, 1, 1, 1, 1, 1, 1, 1, 1, 1], [0, 1, 2, 3, 4, 5, 6, 7, 8, 9.]]).T # both unit vector and transposition are necessary\n",
        "X"
      ],
      "execution_count": 52,
      "outputs": [
        {
          "output_type": "execute_result",
          "data": {
            "text/plain": [
              "tensor([[1., 0.],\n",
              "        [1., 1.],\n",
              "        [1., 2.],\n",
              "        [1., 3.],\n",
              "        [1., 4.],\n",
              "        [1., 5.],\n",
              "        [1., 6.],\n",
              "        [1., 7.],\n",
              "        [1., 8.],\n",
              "        [1., 9.]])"
            ]
          },
          "metadata": {
            "tags": []
          },
          "execution_count": 52
        }
      ]
    },
    {
      "cell_type": "markdown",
      "metadata": {
        "id": "TA2q2qBRANDa"
      },
      "source": [
        "Adding noise to an arbitrary linear function $y = b + w X$"
      ]
    },
    {
      "cell_type": "code",
      "metadata": {
        "colab": {
          "base_uri": "https://localhost:8080/"
        },
        "id": "bjQV7mqfyshC",
        "outputId": "7a71b188-ddb9-4bf6-f6fa-f7e5b6c0b15f"
      },
      "source": [
        "y = 5 - 10 * X[:, 1] + torch.normal(mean=torch.zeros(len(X[:, 1])), std=2)\n",
        "y"
      ],
      "execution_count": 53,
      "outputs": [
        {
          "output_type": "execute_result",
          "data": {
            "text/plain": [
              "tensor([  7.5713,  -9.1221, -15.3132, -25.1535, -34.4662, -46.6266, -56.2901,\n",
              "        -63.4219, -75.6490, -84.9489])"
            ]
          },
          "metadata": {
            "tags": []
          },
          "execution_count": 53
        }
      ]
    },
    {
      "cell_type": "code",
      "metadata": {
        "colab": {
          "base_uri": "https://localhost:8080/",
          "height": 282
        },
        "id": "HBRFar-xzMP8",
        "outputId": "74f45ea6-0b41-463b-e332-94b787c7dfe6"
      },
      "source": [
        "plt.plot(X[:, 1], y, 'o')"
      ],
      "execution_count": 54,
      "outputs": [
        {
          "output_type": "execute_result",
          "data": {
            "text/plain": [
              "[<matplotlib.lines.Line2D at 0x7f3810fb97d0>]"
            ]
          },
          "metadata": {
            "tags": []
          },
          "execution_count": 54
        },
        {
          "output_type": "display_data",
          "data": {
            "image/png": "[encoded data removed]",
            "text/plain": [
              "<Figure size 432x288 with 1 Axes>"
            ]
          },
          "metadata": {
            "tags": [],
            "needs_background": "light"
          }
        }
      ]
    },
    {
      "cell_type": "markdown",
      "metadata": {
        "id": "c5O1xtCd0Ogy"
      },
      "source": [
        "## Getting the pseudoinverse"
      ]
    },
    {
      "cell_type": "code",
      "metadata": {
        "colab": {
          "base_uri": "https://localhost:8080/"
        },
        "id": "h1sQitUjHz7I",
        "outputId": "5974bb2f-7322-42bb-8f11-4cd0b3878f1a"
      },
      "source": [
        "X_plus = torch.pinverse(X)\n",
        "X_plus"
      ],
      "execution_count": 56,
      "outputs": [
        {
          "output_type": "execute_result",
          "data": {
            "text/plain": [
              "tensor([[ 0.3455,  0.2909,  0.2364,  0.1818,  0.1273,  0.0727,  0.0182, -0.0364,\n",
              "         -0.0909, -0.1455],\n",
              "        [-0.0545, -0.0424, -0.0303, -0.0182, -0.0061,  0.0061,  0.0182,  0.0303,\n",
              "          0.0424,  0.0545]])"
            ]
          },
          "metadata": {
            "tags": []
          },
          "execution_count": 56
        }
      ]
    },
    {
      "cell_type": "markdown",
      "metadata": {
        "id": "-NyjWLzGMP9I"
      },
      "source": [
        "Applying  $w = X^+y$, which returns a vector containing both the **intercept** and the **slope**"
      ]
    },
    {
      "cell_type": "code",
      "metadata": {
        "colab": {
          "base_uri": "https://localhost:8080/"
        },
        "id": "9JtME66JKFl6",
        "outputId": "74cb683e-fc5f-4eec-80b4-c7f9f7bce87e"
      },
      "source": [
        "b, w = torch.matmul(X_plus, y)\n",
        "print(b, w)"
      ],
      "execution_count": 65,
      "outputs": [
        {
          "output_type": "stream",
          "text": [
            "tensor(4.5075) tensor(-9.9666)\n"
          ],
          "name": "stdout"
        }
      ]
    },
    {
      "cell_type": "markdown",
      "metadata": {
        "id": "j0O9Px7I4O5L"
      },
      "source": [
        "## Plotting results"
      ]
    },
    {
      "cell_type": "code",
      "metadata": {
        "colab": {
          "base_uri": "https://localhost:8080/",
          "height": 337
        },
        "id": "UWOaqN3g4Pbm",
        "outputId": "e8b1faba-4ec9-4e4e-cbfc-c59c32f0dda4"
      },
      "source": [
        "plt.figure(figsize=(10,5))\n",
        "plt.plot(X[:, 1], y, 'o')\n",
        "plt.plot(X[:, 1], b + w * X[:, 1])"
      ],
      "execution_count": 63,
      "outputs": [
        {
          "output_type": "execute_result",
          "data": {
            "text/plain": [
              "[<matplotlib.lines.Line2D at 0x7f3810ca4590>]"
            ]
          },
          "metadata": {
            "tags": []
          },
          "execution_count": 63
        },
        {
          "output_type": "display_data",
          "data": {
            "image/png": "[encoded data removed]",
            "text/plain": [
              "<Figure size 720x360 with 1 Axes>"
            ]
          },
          "metadata": {
            "tags": [],
            "needs_background": "light"
          }
        }
      ]
    }
  ]
}